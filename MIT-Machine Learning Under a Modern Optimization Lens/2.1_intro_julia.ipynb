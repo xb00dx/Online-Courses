{
 "cells": [
  {
   "cell_type": "markdown",
   "metadata": {
    "slideshow": {
     "slide_type": "slide"
    }
   },
   "source": [
    "# Introduction to Julia and IJulia/Jupyter\n",
    "<table>\n",
    "<tr>\n",
    "<td> <a href=\"http://julialang.org\"><img src=\"https://docs.julialang.org/en/stable/assets/logo.png\" alt=\"Julia\" style=\"width: 150px;\"/></a></td>\n",
    "<td> <a href=\"http://jupyter.org\"><img src=\"http://jupyter.org/assets/nav_logo.svg\" alt=\"Jupyter\" style=\"width: 150px;\"/></a></td>\n",
    "<td> <a href=\"https://github.com/JuliaLang/IJulia.jl\"><img src=\"https://github.com/JuliaLang/IJulia.jl/raw/master/deps/ijulialogo.png\" alt=\"IJulia\" style=\"width: 150px;\"/></a></td>\n",
    "</tr></table>"
   ]
  },
  {
   "cell_type": "markdown",
   "metadata": {
    "slideshow": {
     "slide_type": "slide"
    }
   },
   "source": [
    "## Why using Julia?\n",
    "We introduce in this section **Julia**, a fast programming language that is particularly good at scientific computing."
   ]
  },
  {
   "cell_type": "markdown",
   "metadata": {
    "slideshow": {
     "slide_type": "subslide"
    }
   },
   "source": [
    "Quoting the [Julia website](http://julialang.org):\n",
    "> Julia is a **high-level**, **high-performance** **dynamic** programming language for **technical computing**, with syntax that is familiar to users of other technical computing environments. It provides a sophisticated compiler, distributed parallel execution, numerical accuracy, and an extensive mathematical function library."
   ]
  },
  {
   "cell_type": "markdown",
   "metadata": {
    "slideshow": {
     "slide_type": "slide"
    }
   },
   "source": [
    "**High-level** language\n",
    "\n",
    "- The syntax is easy to use and learn. \n",
    "- It will seem familiar to Python and Matlab users. \n",
    "- It is possible to do complicated computations quickly."
   ]
  },
  {
   "cell_type": "markdown",
   "metadata": {
    "slideshow": {
     "slide_type": "subslide"
    }
   },
   "source": [
    "For example, Solving $Ax = b$ with \n",
    "$A = \\begin{pmatrix}\n",
    " 1 & 2 & 3\\\\ \n",
    " 2 & 1 & 2\\\\ \n",
    " 3 & 2 & 1\n",
    "\\end{pmatrix}$\n",
    "and $b = \\begin{pmatrix}\n",
    " 1 \\\\ \n",
    " 1 \\\\ \n",
    " 1 \n",
    "\\end{pmatrix}$\n",
    "is as simple as:"
   ]
  },
  {
   "cell_type": "code",
   "execution_count": 1,
   "metadata": {
    "slideshow": {
     "slide_type": "fragment"
    }
   },
   "outputs": [
    {
     "data": {
      "text/plain": [
       "3-element Array{Float64,1}:\n",
       "  0.25\n",
       " -0.0 \n",
       "  0.25"
      ]
     },
     "execution_count": 1,
     "metadata": {},
     "output_type": "execute_result"
    }
   ],
   "source": [
    "A = [1 2 3\n",
    "     2 1 2\n",
    "     3 2 1]\n",
    "\n",
    "b = [1,1,1]\n",
    "A\\b"
   ]
  },
  {
   "cell_type": "markdown",
   "metadata": {
    "slideshow": {
     "slide_type": "slide"
    }
   },
   "source": [
    "A **dynamic** language:\n",
    "\n",
    "- Julia is, like Python, Matlab or R, a dynamic language: you can interact with the language without the need to compile your code. Static or compiled languages, like C or Fortran, are more complicated to use but generally faster, and thus used when there is a need for time-efficient computations. \n",
    "\n",
    "- This is the _two-languages problem_: one generally use a high level language for research and scripting, and then translate the final result in a static language for performance."
   ]
  },
  {
   "cell_type": "markdown",
   "metadata": {
    "slideshow": {
     "slide_type": "slide"
    }
   },
   "source": [
    "A **High Performance** language:\n",
    "- Julia solves the two languages problem using **just-in-time compilation**. While running, your code will be automatically compiled and optimized to reach performances comparable to static languages like C, Fortran and Go.\n",
    "- Unlike R, Matlab or Python, simple loops are extremely efficient in Julia:"
   ]
  },
  {
   "cell_type": "markdown",
   "metadata": {
    "slideshow": {
     "slide_type": "slide"
    }
   },
   "source": [
    "A language for **technical computing**\n",
    "- Julia has a lot of built in functions for scientific computing.\n",
    "- A growing number of packages, mostly written in Julia itself.\n",
    "- More and more users in Finance, Biology, Optimization.\n",
    "- Can run C and Python code seemlessly (using Scikit for Machine Learning...)\n"
   ]
  },
  {
   "cell_type": "markdown",
   "metadata": {
    "slideshow": {
     "slide_type": "slide"
    }
   },
   "source": [
    "## Jupyter/IJulia notebook basics\n",
    "We present, install and use the Jupyter notebooks, a formidable tool made available to Julia by the IJulia project."
   ]
  },
  {
   "cell_type": "markdown",
   "metadata": {
    "slideshow": {
     "slide_type": "slide"
    }
   },
   "source": [
    "### What is a Jupyter Notebook?\n",
    "- Jupyter notebooks are **documents** (a little like a Word document) that can contain and run code.\n",
    "- They were originally created for Python in the IPython projects, and adapted to Julia by the **IJulia** project.\n",
    "- They are very useful to **prototype**, draw **plots**, or even for teaching material like this one.\n",
    "- The document relies only on a modern browser for rendering, and can easily be **shared**."
   ]
  },
  {
   "cell_type": "markdown",
   "metadata": {
    "slideshow": {
     "slide_type": "slide"
    }
   },
   "source": [
    "### Installing IJulia and loading this notebook\n",
    "Once Julia is installed, start julia and just run the following command to install the `IJulia` package\n",
    "```jl\n",
    "Pkg.install(\"IJulia\")\n",
    "```\n",
    "This should work on its own. If there is any issue, check out the [IJulia website](https://github.com/JuliaLang/IJulia.jl).\n",
    "\n",
    "Once IJulia is installed, go to the notebook file (_.ipynb_) directory, start julia and run:\n",
    "```jl\n",
    "using IJulia\n",
    "notebook()\n",
    "```\n",
    "A webpage should open automatically, just click on the notebook to load it."
   ]
  },
  {
   "cell_type": "markdown",
   "metadata": {
    "slideshow": {
     "slide_type": "slide"
    }
   },
   "source": [
    "### Navigating the notebook\n",
    "\n",
    "- Click `Help -> User Interface Tour` for a guided tour of the interface.\n",
    "- Each notebook is composed of **cells**, that either contain code or text (`Markdown`).\n",
    "- You can edit the content of a cell by double-clicking on it (_Edit Mode_)."
   ]
  },
  {
   "cell_type": "markdown",
   "metadata": {
    "slideshow": {
     "slide_type": "slide"
    }
   },
   "source": [
    "When you are not editing a cell, you are in _Command mode_ and can edit the structure of the notebook (cells, name, options...)"
   ]
  },
  {
   "cell_type": "markdown",
   "metadata": {
    "slideshow": {
     "slide_type": "subslide"
    }
   },
   "source": [
    "- Create a cell by:\n",
    "    - Clicking `Insert -> Insert Cell`\n",
    "    - Pressing `a` or `b` in Command Mode\n",
    "    - Pressing `Alt+Enter` in Edit Mode"
   ]
  },
  {
   "cell_type": "markdown",
   "metadata": {
    "slideshow": {
     "slide_type": "subslide"
    }
   },
   "source": [
    "- Delete a cell by:\n",
    "    - Clicking `Edit -> Delete Cell`\n",
    "    - Pressing `dd`"
   ]
  },
  {
   "cell_type": "markdown",
   "metadata": {
    "slideshow": {
     "slide_type": "subslide"
    }
   },
   "source": [
    "- Execute a cell by:\n",
    "    - Clicking `Cell -> Run`\n",
    "    - Pressing `Ctrl+Enter`"
   ]
  },
  {
   "cell_type": "markdown",
   "metadata": {
    "slideshow": {
     "slide_type": "subslide"
    }
   },
   "source": [
    "Other functions:\n",
    "- Undo last text edit with `Ctrl+z` in Edit Mode\n",
    "- Undo last cell manipulation with `z` in Command Mode\n",
    "- Save notebook with `Ctrl+s` in Edit Mode\n",
    "- Save notebook with `s` in Command Mode\n",
    "\n",
    "Though notebooks rely on your browser to work, they do not require an internet connection (except for math rendering).\n"
   ]
  },
  {
   "cell_type": "markdown",
   "metadata": {
    "slideshow": {
     "slide_type": "slide"
    }
   },
   "source": [
    "## Coding in Julia\n",
    "This section is a brief introduction to Julia. It is not a comprehensive tutorial but more a _taste_ of the language for those who do not know it, and a showcase of cool features for those who already know Julia.\n",
    "\n",
    "Very good [tutorials](http://julialang.org/learning/) are available online and in books if you are interested in learning the language."
   ]
  },
  {
   "cell_type": "markdown",
   "metadata": {
    "slideshow": {
     "slide_type": "slide"
    }
   },
   "source": [
    "### Basic use\n",
    "Julia, as a dynamic language, can simply be used as a calculator:"
   ]
  },
  {
   "cell_type": "code",
   "execution_count": 2,
   "metadata": {
    "slideshow": {
     "slide_type": "fragment"
    }
   },
   "outputs": [
    {
     "data": {
      "text/plain": [
       "2"
      ]
     },
     "execution_count": 2,
     "metadata": {},
     "output_type": "execute_result"
    }
   ],
   "source": [
    "1+1"
   ]
  },
  {
   "cell_type": "code",
   "execution_count": 3,
   "metadata": {
    "slideshow": {
     "slide_type": "subslide"
    }
   },
   "outputs": [
    {
     "data": {
      "text/plain": [
       "-0.01136232398070678"
      ]
     },
     "execution_count": 3,
     "metadata": {},
     "output_type": "execute_result"
    }
   ],
   "source": [
    "sin(exp(2*pi)+sqrt(3))"
   ]
  },
  {
   "cell_type": "markdown",
   "metadata": {
    "slideshow": {
     "slide_type": "slide"
    }
   },
   "source": [
    "The building blocs of Julia code are variables:"
   ]
  },
  {
   "cell_type": "code",
   "execution_count": 4,
   "metadata": {
    "slideshow": {
     "slide_type": "fragment"
    }
   },
   "outputs": [
    {
     "data": {
      "text/plain": [
       "9"
      ]
     },
     "execution_count": 4,
     "metadata": {},
     "output_type": "execute_result"
    }
   ],
   "source": [
    "a = 1\n",
    "b = 2\n",
    "# This is a comment \n",
    "c = a^2 + b^3 "
   ]
  },
  {
   "cell_type": "markdown",
   "metadata": {
    "slideshow": {
     "slide_type": "slide"
    }
   },
   "source": [
    "Julia supports the common `if`, `while` and `for` structures:"
   ]
  },
  {
   "cell_type": "code",
   "execution_count": 5,
   "metadata": {
    "slideshow": {
     "slide_type": "fragment"
    }
   },
   "outputs": [
    {
     "name": "stdout",
     "output_type": "stream",
     "text": [
      "Huchette"
     ]
    }
   ],
   "source": [
    "if c >= 10\n",
    "    print(\"Joey\")\n",
    "else\n",
    "    print(\"Huchette\")\n",
    "end"
   ]
  },
  {
   "cell_type": "code",
   "execution_count": 6,
   "metadata": {
    "slideshow": {
     "slide_type": "subslide"
    }
   },
   "outputs": [
    {
     "name": "stdout",
     "output_type": "stream",
     "text": [
      "Joey!\n",
      "Joey!\n",
      "Joey!\n",
      "Joey!\n",
      "Joey!\n"
     ]
    }
   ],
   "source": [
    "i = 1\n",
    "while i <= 5\n",
    "    println(\"Joey!\") # Print with a new line\n",
    "    i += 1\n",
    "end"
   ]
  },
  {
   "cell_type": "code",
   "execution_count": 7,
   "metadata": {
    "slideshow": {
     "slide_type": "subslide"
    }
   },
   "outputs": [
    {
     "name": "stdout",
     "output_type": "stream",
     "text": [
      "1 Joey\n",
      "2 Joeys\n",
      "3 Joeys\n"
     ]
    }
   ],
   "source": [
    "for i = 1:3\n",
    "    print(\"$i Joey\") # '$' can be used to insert variables into text\n",
    "    if i>1\n",
    "        print(\"s\")\n",
    "    end\n",
    "    println() # Just a new line\n",
    "end"
   ]
  },
  {
   "cell_type": "markdown",
   "metadata": {
    "slideshow": {
     "slide_type": "subslide"
    }
   },
   "source": [
    "**Do not worry about writing loops**: in Julia, they are as fast as writing vectorized code, and sometimes faster!"
   ]
  },
  {
   "cell_type": "markdown",
   "metadata": {
    "slideshow": {
     "slide_type": "slide"
    }
   },
   "source": [
    "**Arrays** (list of numbers) are at the core of research computing and Julia's arrays are extremely optimized."
   ]
  },
  {
   "cell_type": "code",
   "execution_count": 8,
   "metadata": {
    "slideshow": {
     "slide_type": "fragment"
    }
   },
   "outputs": [
    {
     "data": {
      "text/plain": [
       "3-element Array{Int64,1}:\n",
       " 1\n",
       " 2\n",
       " 3"
      ]
     },
     "execution_count": 8,
     "metadata": {},
     "output_type": "execute_result"
    }
   ],
   "source": [
    "myList = [1, 2, 3]"
   ]
  },
  {
   "cell_type": "markdown",
   "metadata": {
    "slideshow": {
     "slide_type": "slide"
    }
   },
   "source": [
    "Array indexing starts with 1 in Julia:"
   ]
  },
  {
   "cell_type": "code",
   "execution_count": 9,
   "metadata": {
    "slideshow": {
     "slide_type": "fragment"
    }
   },
   "outputs": [
    {
     "data": {
      "text/plain": [
       "1"
      ]
     },
     "execution_count": 9,
     "metadata": {},
     "output_type": "execute_result"
    }
   ],
   "source": [
    "myList[1]"
   ]
  },
  {
   "cell_type": "code",
   "execution_count": 10,
   "metadata": {
    "slideshow": {
     "slide_type": "subslide"
    }
   },
   "outputs": [
    {
     "data": {
      "text/plain": [
       "3-element Array{Int64,1}:\n",
       " 1\n",
       " 2\n",
       " 4"
      ]
     },
     "execution_count": 10,
     "metadata": {},
     "output_type": "execute_result"
    }
   ],
   "source": [
    "myList[3] = 4\n",
    "myList"
   ]
  },
  {
   "cell_type": "markdown",
   "metadata": {
    "slideshow": {
     "slide_type": "slide"
    }
   },
   "source": [
    "A 2-dimensional array is a Matrix"
   ]
  },
  {
   "cell_type": "code",
   "execution_count": 11,
   "metadata": {
    "slideshow": {
     "slide_type": "fragment"
    }
   },
   "outputs": [
    {
     "data": {
      "text/plain": [
       "3×3 Array{Int64,2}:\n",
       " 1  2  3\n",
       " 2  1  2\n",
       " 3  2  1"
      ]
     },
     "execution_count": 11,
     "metadata": {},
     "output_type": "execute_result"
    }
   ],
   "source": [
    "A = [1 2 3\n",
    "     2 1 2\n",
    "     3 2 1]\n",
    "\n",
    "A = [1 2 3; 2 1 2; 3 2 1] #same thing"
   ]
  },
  {
   "cell_type": "markdown",
   "metadata": {
    "slideshow": {
     "slide_type": "slide"
    }
   },
   "source": [
    "Matrix can be multiplied, inversed..."
   ]
  },
  {
   "cell_type": "code",
   "execution_count": 12,
   "metadata": {
    "slideshow": {
     "slide_type": "fragment"
    }
   },
   "outputs": [
    {
     "data": {
      "text/plain": [
       "3×3 Array{Float64,2}:\n",
       " 1.0  2.0  3.0\n",
       " 2.0  1.0  2.0\n",
       " 3.0  2.0  1.0"
      ]
     },
     "execution_count": 12,
     "metadata": {},
     "output_type": "execute_result"
    }
   ],
   "source": [
    "A^-1 #inverse\n",
    "\n",
    "A^2 * A^-1"
   ]
  },
  {
   "cell_type": "code",
   "execution_count": 13,
   "metadata": {
    "slideshow": {
     "slide_type": "subslide"
    }
   },
   "outputs": [
    {
     "data": {
      "text/plain": [
       "3-element Array{Int64,1}:\n",
       " 14\n",
       " 10\n",
       " 10"
      ]
     },
     "execution_count": 13,
     "metadata": {},
     "output_type": "execute_result"
    }
   ],
   "source": [
    "A*[1,2,3]"
   ]
  },
  {
   "cell_type": "code",
   "execution_count": 14,
   "metadata": {
    "slideshow": {
     "slide_type": "subslide"
    }
   },
   "outputs": [
    {
     "data": {
      "text/plain": [
       "3-element Array{Float64,1}:\n",
       " -2.0     \n",
       " -0.701562\n",
       "  5.70156 "
      ]
     },
     "execution_count": 14,
     "metadata": {},
     "output_type": "execute_result"
    }
   ],
   "source": [
    "eigenValues, eigenVectors = eig(A)\n",
    "eigenValues"
   ]
  },
  {
   "cell_type": "markdown",
   "metadata": {
    "slideshow": {
     "slide_type": "slide"
    }
   },
   "source": [
    "### Navigating Julia\n",
    "Julia has a package manager to quickly download, install, update and uninstall new tools (_packages_)"
   ]
  },
  {
   "cell_type": "code",
   "execution_count": null,
   "metadata": {
    "slideshow": {
     "slide_type": "subslide"
    }
   },
   "outputs": [],
   "source": [
    "# Add Packages Plots, and Pyplot (can take some time)\n",
    "Pkg.add(\"Plots\")\n",
    "Pkg.add(\"PyPlot\")\n",
    "# Update\n",
    "Pkg.update()\n",
    "#Remove:\n",
    "# Pkg.rm(\"PyPlot\")"
   ]
  },
  {
   "cell_type": "markdown",
   "metadata": {
    "slideshow": {
     "slide_type": "slide"
    }
   },
   "source": [
    "Use `?` to get the documentation of a function"
   ]
  },
  {
   "cell_type": "code",
   "execution_count": 15,
   "metadata": {
    "slideshow": {
     "slide_type": "fragment"
    }
   },
   "outputs": [
    {
     "name": "stdout",
     "output_type": "stream",
     "text": [
      "search: \u001b[1me\u001b[22m\u001b[1mi\u001b[22m\u001b[1mg\u001b[22m \u001b[1me\u001b[22m\u001b[1mi\u001b[22m\u001b[1mg\u001b[22ms \u001b[1me\u001b[22m\u001b[1mi\u001b[22m\u001b[1mg\u001b[22mmin \u001b[1me\u001b[22m\u001b[1mi\u001b[22m\u001b[1mg\u001b[22mmax \u001b[1me\u001b[22m\u001b[1mi\u001b[22m\u001b[1mg\u001b[22mvecs \u001b[1me\u001b[22m\u001b[1mi\u001b[22m\u001b[1mg\u001b[22mvals \u001b[1me\u001b[22m\u001b[1mi\u001b[22m\u001b[1mg\u001b[22mfact \u001b[1me\u001b[22m\u001b[1mi\u001b[22m\u001b[1mg\u001b[22mvals! \u001b[1me\u001b[22m\u001b[1mi\u001b[22m\u001b[1mg\u001b[22mfact!\n",
      "\n"
     ]
    },
    {
     "data": {
      "text/markdown": [
       "```\n",
       "eig(A::Union{SymTridiagonal, Hermitian, Symmetric}, irange::UnitRange) -> D, V\n",
       "eig(A::Union{SymTridiagonal, Hermitian, Symmetric}, vl::Real, vu::Real) -> D, V\n",
       "eig(A, permute::Bool=true, scale::Bool=true) -> D, V\n",
       "```\n",
       "\n",
       "Computes eigenvalues (`D`) and eigenvectors (`V`) of `A`. See [`eigfact`](@ref) for details on the `irange`, `vl`, and `vu` arguments (for [`SymTridiagonal`](@ref), `Hermitian`, and `Symmetric` matrices) and the `permute` and `scale` keyword arguments. The eigenvectors are returned columnwise.\n",
       "\n",
       "# Example\n",
       "\n",
       "```jldoctest\n",
       "julia> eig([1.0 0.0 0.0; 0.0 3.0 0.0; 0.0 0.0 18.0])\n",
       "([1.0, 3.0, 18.0], [1.0 0.0 0.0; 0.0 1.0 0.0; 0.0 0.0 1.0])\n",
       "```\n",
       "\n",
       "`eig` is a wrapper around [`eigfact`](@ref), extracting all parts of the factorization to a tuple; where possible, using [`eigfact`](@ref) is recommended.\n",
       "\n",
       "```\n",
       "eig(A, B) -> D, V\n",
       "```\n",
       "\n",
       "Computes generalized eigenvalues (`D`) and vectors (`V`) of `A` with respect to `B`.\n",
       "\n",
       "`eig` is a wrapper around [`eigfact`](@ref), extracting all parts of the factorization to a tuple; where possible, using [`eigfact`](@ref) is recommended.\n",
       "\n",
       "# Example\n",
       "\n",
       "```jldoctest\n",
       "julia> A = [1 0; 0 -1]\n",
       "2×2 Array{Int64,2}:\n",
       " 1   0\n",
       " 0  -1\n",
       "\n",
       "julia> B = [0 1; 1 0]\n",
       "2×2 Array{Int64,2}:\n",
       " 0  1\n",
       " 1  0\n",
       "\n",
       "julia> eig(A, B)\n",
       "(Complex{Float64}[0.0+1.0im, 0.0-1.0im], Complex{Float64}[0.0-1.0im 0.0+1.0im; -1.0-0.0im -1.0+0.0im])\n",
       "```\n"
      ],
      "text/plain": [
       "```\n",
       "eig(A::Union{SymTridiagonal, Hermitian, Symmetric}, irange::UnitRange) -> D, V\n",
       "eig(A::Union{SymTridiagonal, Hermitian, Symmetric}, vl::Real, vu::Real) -> D, V\n",
       "eig(A, permute::Bool=true, scale::Bool=true) -> D, V\n",
       "```\n",
       "\n",
       "Computes eigenvalues (`D`) and eigenvectors (`V`) of `A`. See [`eigfact`](@ref) for details on the `irange`, `vl`, and `vu` arguments (for [`SymTridiagonal`](@ref), `Hermitian`, and `Symmetric` matrices) and the `permute` and `scale` keyword arguments. The eigenvectors are returned columnwise.\n",
       "\n",
       "# Example\n",
       "\n",
       "```jldoctest\n",
       "julia> eig([1.0 0.0 0.0; 0.0 3.0 0.0; 0.0 0.0 18.0])\n",
       "([1.0, 3.0, 18.0], [1.0 0.0 0.0; 0.0 1.0 0.0; 0.0 0.0 1.0])\n",
       "```\n",
       "\n",
       "`eig` is a wrapper around [`eigfact`](@ref), extracting all parts of the factorization to a tuple; where possible, using [`eigfact`](@ref) is recommended.\n",
       "\n",
       "```\n",
       "eig(A, B) -> D, V\n",
       "```\n",
       "\n",
       "Computes generalized eigenvalues (`D`) and vectors (`V`) of `A` with respect to `B`.\n",
       "\n",
       "`eig` is a wrapper around [`eigfact`](@ref), extracting all parts of the factorization to a tuple; where possible, using [`eigfact`](@ref) is recommended.\n",
       "\n",
       "# Example\n",
       "\n",
       "```jldoctest\n",
       "julia> A = [1 0; 0 -1]\n",
       "2×2 Array{Int64,2}:\n",
       " 1   0\n",
       " 0  -1\n",
       "\n",
       "julia> B = [0 1; 1 0]\n",
       "2×2 Array{Int64,2}:\n",
       " 0  1\n",
       " 1  0\n",
       "\n",
       "julia> eig(A, B)\n",
       "(Complex{Float64}[0.0+1.0im, 0.0-1.0im], Complex{Float64}[0.0-1.0im 0.0+1.0im; -1.0-0.0im -1.0+0.0im])\n",
       "```\n"
      ]
     },
     "execution_count": 15,
     "metadata": {},
     "output_type": "execute_result"
    }
   ],
   "source": [
    "?eig"
   ]
  },
  {
   "cell_type": "markdown",
   "metadata": {
    "slideshow": {
     "slide_type": "slide"
    }
   },
   "source": [
    "Use tab-completion to auto-complete functions and variables names: try ``myF<TAB>``:"
   ]
  },
  {
   "cell_type": "code",
   "execution_count": 16,
   "metadata": {
    "slideshow": {
     "slide_type": "fragment"
    }
   },
   "outputs": [
    {
     "ename": "LoadError",
     "evalue": "\u001b[91mUndefVarError: myF not defined\u001b[39m",
     "output_type": "error",
     "traceback": [
      "\u001b[91mUndefVarError: myF not defined\u001b[39m",
      "",
      "Stacktrace:",
      " [1] \u001b[1minclude_string\u001b[22m\u001b[22m\u001b[1m(\u001b[22m\u001b[22m::String, ::String\u001b[1m)\u001b[22m\u001b[22m at \u001b[1m./loading.jl:515\u001b[22m\u001b[22m"
     ]
    }
   ],
   "source": [
    "myF\n",
    "fac"
   ]
  },
  {
   "cell_type": "markdown",
   "metadata": {
    "slideshow": {
     "slide_type": "slide"
    }
   },
   "source": [
    "The ``methods`` function lists all of the different implementations of a function depending on the input types.\n",
    "Click on the link to see the Julia source code."
   ]
  },
  {
   "cell_type": "markdown",
   "metadata": {
    "slideshow": {
     "slide_type": "slide"
    }
   },
   "source": [
    "### Plotting in IJulia\n",
    "There are several Julia plotting packages. \n",
    "\n",
    "- [PyPlot.jl][3] is a Julia interface to Matplotlib, and should feel familiar to both MATLAB and Python users.\n",
    "- [Gadfly][1] is written entirely in Julia, inspired by ggplot2, and concentrates on statistical graphics.\n",
    "- [Plotly supports Julia][2].\n",
    "- [Plots][4] is a _meta_ plotting package, that can use any other plotting package to make the same plot \n",
    "- And a lot more\n",
    "\n",
    "Jupyter/IJulia will render the plots directly on the notebook!\n",
    "\n",
    "[1]: https://github.com/dcjones/Gadfly.jl\n",
    "[2]: https://plot.ly/julia/\n",
    "[3]: https://github.com/stevengj/PyPlot.jl\n",
    "[4]: https://juliaplots.github.io"
   ]
  },
  {
   "cell_type": "code",
   "execution_count": 17,
   "metadata": {
    "slideshow": {
     "slide_type": "slide"
    }
   },
   "outputs": [
    {
     "name": "stderr",
     "output_type": "stream",
     "text": [
      "\u001b[1m\u001b[33mWARNING: \u001b[39m\u001b[22m\u001b[33mCouldn't initialize pyplot.  (might need to install it?)\u001b[39m\n",
      "\u001b[1m\u001b[36mINFO: \u001b[39m\u001b[22m"
     ]
    },
    {
     "name": "stdout",
     "output_type": "stream",
     "text": [
      "if !Plots.is_installed(\"PyPlot\")\n",
      "    Pkg.add(\"PyPlot\")\n",
      "end\n",
      "withenv(\"PYTHON\" => \"\") do\n",
      "    Pkg.build(\"PyPlot\")\n",
      "end\n",
      "\n",
      "# now restart julia!\n",
      "\n",
      "\n"
     ]
    },
    {
     "name": "stderr",
     "output_type": "stream",
     "text": [
      "\u001b[36mTo do a standard install of pyplot, copy and run this:\n",
      "\n",
      "\u001b[39m"
     ]
    },
    {
     "ename": "LoadError",
     "evalue": "\u001b[91mArgumentError: Module PyPlot not found in current path.\nRun `Pkg.add(\"PyPlot\")` to install the PyPlot package.\u001b[39m",
     "output_type": "error",
     "traceback": [
      "\u001b[91mArgumentError: Module PyPlot not found in current path.\nRun `Pkg.add(\"PyPlot\")` to install the PyPlot package.\u001b[39m",
      ""
     ]
    }
   ],
   "source": [
    "using Plots\n",
    "pyplot() #plot using Matplotlib\n",
    "x = linspace(0,5,1000)\n",
    "plot(x, sin(x.^2))"
   ]
  },
  {
   "cell_type": "markdown",
   "metadata": {
    "slideshow": {
     "slide_type": "fragment"
    }
   },
   "source": [
    "Note that the first plot while always take a few seconds to be drawn, a consequence of Julia's just in time compilation. Lots of other plot types are available"
   ]
  },
  {
   "cell_type": "markdown",
   "metadata": {
    "slideshow": {
     "slide_type": "slide"
    }
   },
   "source": [
    "## Advanced use of Julia and Notebooks\n",
    "The following is just a sample of what can be done with Julia and notebooks. Feel free to explore by yourself any item of interest"
   ]
  },
  {
   "cell_type": "markdown",
   "metadata": {
    "slideshow": {
     "slide_type": "slide"
    }
   },
   "source": [
    "### Julia\n",
    "We only presented a small subset of Julia functionalities. We list here of few interesting things you may not know."
   ]
  },
  {
   "cell_type": "markdown",
   "metadata": {
    "slideshow": {
     "slide_type": "subslide"
    }
   },
   "source": [
    "**Using the command line from Julia**\n",
    "\n",
    "You can run bash command from Julia, just start the command with a semi-colon: `;`"
   ]
  },
  {
   "cell_type": "code",
   "execution_count": 40,
   "metadata": {
    "slideshow": {
     "slide_type": "fragment"
    }
   },
   "outputs": [
    {
     "name": "stdout",
     "output_type": "stream",
     "text": [
      "LICENSE\n",
      "intro-julia-jupyter.ipynb\n",
      "intro-julia-jupyter.slides.html\n",
      "src\n"
     ]
    }
   ],
   "source": [
    ";ls"
   ]
  },
  {
   "cell_type": "markdown",
   "metadata": {
    "slideshow": {
     "slide_type": "subslide"
    }
   },
   "source": [
    "**Unicode character** \n",
    "\n",
    "You can use unicode characters as part of variables and function names in Julia. You can use $\\LaTeX$-style autocompletes in the Julia terminal or a Jupyter/IJulia code-cell to write them. Some of them are already defined Julia constants and functions\n",
    "> Try to type `\\pi<TAB>` in a cell."
   ]
  },
  {
   "cell_type": "code",
   "execution_count": 41,
   "metadata": {
    "slideshow": {
     "slide_type": "fragment"
    }
   },
   "outputs": [
    {
     "data": {
      "text/plain": [
       "π = 3.1415926535897..."
      ]
     },
     "execution_count": 41,
     "metadata": {},
     "output_type": "execute_result"
    }
   ],
   "source": [
    "π"
   ]
  },
  {
   "cell_type": "code",
   "execution_count": 42,
   "metadata": {
    "slideshow": {
     "slide_type": "subslide"
    }
   },
   "outputs": [
    {
     "data": {
      "text/plain": [
       "true"
      ]
     },
     "execution_count": 42,
     "metadata": {},
     "output_type": "execute_result"
    }
   ],
   "source": [
    "\"carrot\" ∈ [\"potato\", \"tomato\", \"carrot\"]"
   ]
  },
  {
   "cell_type": "markdown",
   "metadata": {
    "slideshow": {
     "slide_type": "subslide"
    }
   },
   "source": [
    "**Juno**\n",
    "\n",
    "Julia has a very nice and powerful text editor, [_Juno_](http://junolab.org), that is built on [Atom](https://atom.io). It is very similar to the Matlab interface or RStudio. Functionalities include:\n",
    "- Autocomplete\n",
    "- Integrated Plotting\n",
    "- Debugging, Manual, ...\n",
    "\n",
    "It is better suited for serious projects with several files, when an IJulia notebook is not enough."
   ]
  },
  {
   "cell_type": "markdown",
   "metadata": {
    "slideshow": {
     "slide_type": "subslide"
    }
   },
   "source": [
    "**Advanced Julia functionalities**\n",
    "Julia is a state-of-the-art programming language, with lots of useful functionalities, including:\n",
    "- [Powerful Macros](http://docs.julialang.org/en/release-0.5/manual/metaprogramming/) (meta-programming)\n",
    "- [Code testing](http://docs.julialang.org/en/release-0.5/stdlib/test/)\n",
    "- [User-defined types](docs.julialang.org/en/release-0.5/manual/types/), that are as fast as built-in ones.\n",
    "- [Package creation](http://docs.julialang.org/en/release-0.5/manual/modules/)\n",
    "- A new [debugger](https://github.com/Keno/Gallium.jl) "
   ]
  },
  {
   "cell_type": "markdown",
   "metadata": {
    "slideshow": {
     "slide_type": "slide"
    }
   },
   "source": [
    "### Interesting Packages\n",
    "Using the Package eco-system, there is almost nothing you cannot achieve:"
   ]
  },
  {
   "cell_type": "markdown",
   "metadata": {
    "slideshow": {
     "slide_type": "fragment"
    }
   },
   "source": [
    "-       Advanced Plotting   with [**Plots.jl**](https://juliaplots.github.io). Functionalities include 3D-plots, animated plots, stats plots, home-made plot \"recipes\" ..."
   ]
  },
  {
   "cell_type": "markdown",
   "metadata": {
    "slideshow": {
     "slide_type": "fragment"
    }
   },
   "source": [
    "- Call any python call using [**PyCall.jl**](https://github.com/JuliaPy/PyCall.jl). (you can also interacts with several other languages)"
   ]
  },
  {
   "cell_type": "markdown",
   "metadata": {
    "slideshow": {
     "slide_type": "subslide"
    }
   },
   "source": [
    "- Advanced graphs/networks algorithms with [**LightGraphs.jl**](https://github.com/JuliaGraphs/LightGraphs.jl)"
   ]
  },
  {
   "cell_type": "markdown",
   "metadata": {
    "slideshow": {
     "slide_type": "fragment"
    }
   },
   "source": [
    "- Applications in [**Finance**](https://github.com/JuliaQuant), [**Biology**](https://github.com/BioJulia/Bio.jl), [**Stats and Machine Learning**](http://juliastats.github.io), [**Optimization**](http://www.juliaopt.org) (including the great [**JuMP**](https://github.com/JuliaOpt/JuMP.jl) package!)"
   ]
  },
  {
   "cell_type": "markdown",
   "metadata": {
    "slideshow": {
     "slide_type": "subslide"
    }
   },
   "source": [
    "- Save and load your variables or environment to a file with [**JLD.jl**](https://github.com/JuliaIO/JLD.jl)"
   ]
  },
  {
   "cell_type": "markdown",
   "metadata": {
    "slideshow": {
     "slide_type": "fragment"
    }
   },
   "source": [
    "- More data structures in [**DataStructures.jl**](https://github.com/JuliaLang/DataStructures.jl)"
   ]
  },
  {
   "cell_type": "markdown",
   "metadata": {
    "slideshow": {
     "slide_type": "fragment"
    }
   },
   "source": [
    "- And a lot more in the **over 1200 registered packages**!"
   ]
  },
  {
   "cell_type": "markdown",
   "metadata": {
    "slideshow": {
     "slide_type": "skip"
    }
   },
   "source": [
    "-------\n",
    "\n",
    "Some content in this notebook was adapted from materials by [Miles Lubin](https://github.com/joehuchette/OR-software-tools-2015/blob/master/6-nonlinear-opt/IJulia%20intro.ipynb)"
   ]
  }
 ],
 "metadata": {
  "kernelspec": {
   "display_name": "Julia 0.6.0",
   "language": "julia",
   "name": "julia-0.6"
  },
  "language_info": {
   "file_extension": ".jl",
   "mimetype": "application/julia",
   "name": "julia",
   "version": "0.6.0"
  }
 },
 "nbformat": 4,
 "nbformat_minor": 1
}
