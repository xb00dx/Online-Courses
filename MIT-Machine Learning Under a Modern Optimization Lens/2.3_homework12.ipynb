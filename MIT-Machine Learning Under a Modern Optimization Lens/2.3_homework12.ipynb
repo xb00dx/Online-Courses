{
 "cells": [
  {
   "cell_type": "code",
   "execution_count": 1,
   "metadata": {},
   "outputs": [],
   "source": [
    "using JuMP, Gurobi, DataFrames"
   ]
  },
  {
   "cell_type": "code",
   "execution_count": 8,
   "metadata": {},
   "outputs": [],
   "source": [
    "df = readtable(\"housing.csv\",header=false)\n",
    "X = Matrix(df[1:end - 1])\n",
    "y = df[end];"
   ]
  },
  {
   "cell_type": "code",
   "execution_count": 9,
   "metadata": {},
   "outputs": [],
   "source": [
    "# Split into training, test sets (75%/25%)\n",
    "n = length(y)\n",
    "test_start = round(Int, 0.75 * n)\n",
    "train_X = X[1:test_start - 1, :]\n",
    "train_y = y[1:test_start - 1]\n",
    "test_X = X[test_start:end, :]\n",
    "test_y = y[test_start:end];"
   ]
  },
  {
   "cell_type": "code",
   "execution_count": 10,
   "metadata": {},
   "outputs": [
    {
     "name": "stdout",
     "output_type": "stream",
     "text": [
      "Size of training set:(379, 13)(379,)\n",
      "Size of test set:(127, 13)(127,)\n"
     ]
    }
   ],
   "source": [
    "#See the size of training set and test set\n",
    "println(\"Size of training set:\",size(train_X),size(train_y))\n",
    "println(\"Size of test set:\",size(test_X),size(test_y))"
   ]
  },
  {
   "cell_type": "code",
   "execution_count": 12,
   "metadata": {},
   "outputs": [
    {
     "data": {
      "text/plain": [
       "p2linear (generic function with 1 method)"
      ]
     },
     "execution_count": 12,
     "metadata": {},
     "output_type": "execute_result"
    }
   ],
   "source": [
    "function p2linear(X, y)\n",
    "    # OutputFlag=0 to hide output from solver\n",
    "    m = Model(solver=GurobiSolver(OutputFlag=0))\n",
    "    \n",
    "    p = size(X, 2)\n",
    "\n",
    "    # Variables\n",
    "    @variable(m, t)\n",
    "    @variable(m, β[1:p])\n",
    "    \n",
    "    # Constraints\n",
    "    @constraint(m, norm(y - X * β) <= t)\n",
    "\n",
    "    # Objective\n",
    "    @objective(m, Min, t)\n",
    "\n",
    "    solve(m)\n",
    "\n",
    "    return getvalue(β)\n",
    "end\n",
    "\n",
    "#how to write beta:\\beta+tab"
   ]
  },
  {
   "cell_type": "code",
   "execution_count": 13,
   "metadata": {},
   "outputs": [
    {
     "name": "stdout",
     "output_type": "stream",
     "text": [
      "Academic license - for non-commercial use only\n"
     ]
    },
    {
     "data": {
      "text/plain": [
       "13-element Array{Float64,1}:\n",
       " -0.182837  \n",
       "  0.0463545 \n",
       "  0.0566232 \n",
       "  0.814289  \n",
       " -5.54437   \n",
       "  6.49243   \n",
       " -0.00690827\n",
       " -1.03113   \n",
       "  0.541436  \n",
       " -0.0123992 \n",
       " -0.524355  \n",
       "  0.0130461 \n",
       " -0.394916  "
      ]
     },
     "execution_count": 13,
     "metadata": {},
     "output_type": "execute_result"
    }
   ],
   "source": [
    "β_linear = p2linear(train_X, train_y)"
   ]
  },
  {
   "cell_type": "code",
   "execution_count": 14,
   "metadata": {},
   "outputs": [
    {
     "name": "stdout",
     "output_type": "stream",
     "text": [
      "Linear regression score: 91.31777137939063\n",
      "Baseline score: 129.22653503988403\n"
     ]
    }
   ],
   "source": [
    "# Regular\n",
    "score_regular = norm(test_y - test_X * β_linear)\n",
    "println(\"Linear regression score: \",score_regular)\n",
    "# baseline\n",
    "train_y_mean = mean(train_y)\n",
    "score_baseline = norm(test_y - train_y_mean)\n",
    "println(\"Baseline score: \",score_baseline)"
   ]
  },
  {
   "cell_type": "code",
   "execution_count": null,
   "metadata": {},
   "outputs": [],
   "source": []
  }
 ],
 "metadata": {
  "kernelspec": {
   "display_name": "Julia 0.6.4",
   "language": "julia",
   "name": "julia-0.6"
  },
  "language_info": {
   "file_extension": ".jl",
   "mimetype": "application/julia",
   "name": "julia",
   "version": "0.6.4"
  }
 },
 "nbformat": 4,
 "nbformat_minor": 2
}
